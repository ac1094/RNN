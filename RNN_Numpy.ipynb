{
 "cells": [
  {
   "cell_type": "markdown",
   "id": "6ac1e5b3",
   "metadata": {},
   "source": [
    "# RNN"
   ]
  },
  {
   "cell_type": "code",
   "execution_count": 70,
   "id": "5c7b819d",
   "metadata": {},
   "outputs": [],
   "source": [
    "import numpy as np\n",
    "import matplotlib.pyplot as plt\n",
    "\n",
    "np.random.seed(0)"
   ]
  },
  {
   "cell_type": "code",
   "execution_count": 71,
   "id": "d4ed072e",
   "metadata": {},
   "outputs": [
    {
     "data": {
      "image/png": "[encoded data removed]",
      "text/plain": [
       "<Figure size 432x288 with 1 Axes>"
      ]
     },
     "metadata": {
      "needs_background": "light"
     },
     "output_type": "display_data"
    }
   ],
   "source": [
    "#Data\n",
    "\n",
    "n_data = 100 #Amount of Data\n",
    "domain_x = 10 #Domain of Data\n",
    "x = np.linspace(0, domain_x, n_data) #Create X data\n",
    "y_true = np.asarray([np.sin(3*x[i]) + 0.0 * np.random.rand()  for i in range(n_data)]) #Create target data\n",
    "\n",
    "plt.plot(x, y_true, label='True data', marker='o')\n",
    "plt.grid()"
   ]
  },
  {
   "cell_type": "code",
   "execution_count": 72,
   "id": "8f80c69a",
   "metadata": {},
   "outputs": [],
   "source": [
    "def MSE(x,y):\n",
    "    return np.sum((x-y)**2)/x.shape[0]"
   ]
  },
  {
   "cell_type": "code",
   "execution_count": 73,
   "id": "aec42037",
   "metadata": {},
   "outputs": [],
   "source": [
    "def sigmoid(x):\n",
    "    return 1 / (1 + np.exp(-x))"
   ]
  },
  {
   "cell_type": "code",
   "execution_count": 74,
   "id": "8842f994",
   "metadata": {},
   "outputs": [],
   "source": [
    "def d_sig(x):\n",
    "    return sigmoid(x)*(1-sigmoid(x))"
   ]
  },
  {
   "cell_type": "code",
   "execution_count": 75,
   "id": "c18809ba",
   "metadata": {},
   "outputs": [],
   "source": [
    "#LSTM cell\n",
    "class LSTM:\n",
    "    \n",
    "    def __init__(self, input_size, h_size):\n",
    "        self.input_size = input_size\n",
    "        self.h_size = h_size\n",
    "        self.Wf = np.random.uniform(0,1,(h_size, input_size + h_size)) #Forget weights\n",
    "        self.Wi = np.random.uniform(0,1,(h_size, input_size + h_size)) #Input weights\n",
    "        self.Wo = np.random.uniform(0,1,(h_size, input_size + h_size)) #Output weights\n",
    "        self.Wc = np.random.uniform(0,1,(h_size, input_size + h_size)) #Cell Input weights\n",
    "        self.bf = np.random.randn(h_size) #Forget bias\n",
    "        self.bi = np.random.randn(h_size) #Input bias\n",
    "        self.bo = np.random.randn(h_size) #Output bias\n",
    "        self.bc = np.random.randn(h_size) #Cell Input bias\n",
    "        self.c_state = np.random.uniform(-1,1,(h_size)) #Cell state\n",
    "        self.h_state = np.random.uniform(-1,1,(h_size)) #Hidden state\n",
    "        \n",
    "        self.concat = np.zeros((input_size + h_size)) #Concatenated Values\n",
    "        \n",
    "        self.f = 0 #forget gate\n",
    "        self.i = 0 #input gate\n",
    "        self.o = 0 #output gate\n",
    "        self.c_hat = 0 #candidate cell state\n",
    "        \n",
    "        self.Wf_g = np.zeros((h_size, input_size + h_size)) #Forget gradient\n",
    "        self.Wi_g = np.zeros((h_size, input_size + h_size)) #Input Gradient\n",
    "        self.Wo_g = np.zeros((h_size, input_size + h_size)) #Output Gradient\n",
    "        self.Wc_g = np.zeros((h_size, input_size + h_size)) #Cell Gradient\n",
    "        self.bf_g = np.zeros(h_size) #Forget bias gradient\n",
    "        self.bi_g = np.zeros(h_size) #Input bias gradient\n",
    "        self.bo_g = np.zeros(h_size) #Output bias gradient\n",
    "        self.bc_g = np.zeros(h_size) #Cell bias Gradient\n",
    "        self.c_state_g = np.zeros(h_size) #Cell State Gradient\n",
    "        self.h_state_g = np.zeros(h_size) #Hidden State Gradient\n",
    "        \n",
    "    def forward(self, x, h_prev, c_prev):\n",
    "        self.concat = np.hstack((h_prev, x)) #Concatenated hidden state and input\n",
    "        self.f = sigmoid(np.dot(self.Wf, self.concat) + self.bf) #Forget cell\n",
    "        self.i = sigmoid(np.dot(self.Wi, self.concat) + self.bi) #Input cell\n",
    "        self.o = sigmoid(np.dot(self.Wo, self.concat) + self.bo) #Output cell\n",
    "        self.c_hat = np.tanh(np.dot(self.Wc, self.concat) + self.bc) #Cell state\n",
    "\n",
    "        self.c_state = self.f * c_prev + self.i * self.c_hat #New Cell State\n",
    "        self.h_state = self.o * np.tanh(self.c_state) #New Hidden State\n",
    "\n",
    "        return self.h_state, self.c_state\n",
    "    \n",
    "    def backward(self, x, d_h_state, d_c_state):\n",
    "        self.h_state_g = d_h_state \n",
    "        d_o = d_h_state * np.tanh(self.c_state) * d_sig(self.Wo * self.concat + self.bo)\n",
    "        d_c = d_h_state * self.o * (1-np.tan(self.c_state)**2)\n",
    "        d_i = d_c * self.c_hat * d_sig(self.Wi * self.concat + self.bi)\n",
    "        d_f = d_c * d_c_state * d_sig(self.Wf * self.concat + self.bf)\n",
    "        \n",
    "        self.Wf_g = d_f * self.concat\n",
    "        self.Wi_g = d_i * self.concat\n",
    "        self.Wc_g = d_c * self.concat\n",
    "        self.Wo_g = d_o * self.concat\n",
    "        \n",
    "        self.bf_g = d_f.sum()\n",
    "        self.bi_g = d_i.sum()\n",
    "        self.bc_g = d_c.sum()\n",
    "        self.bo_g = d_o.sum()\n",
    "        \n",
    "        dconcat = self.Wf * d_f + self.Wi * d_i + self.Wc * d_c + self.Wo * d_o \n",
    "        \n",
    "        dx = dconcat[:, :self.input_size] \n",
    "        dh_prev = dconcat[:, self.input_size:]\n",
    "\n",
    "        return dx, dh_prev, d_c * self.f\n",
    "    \n",
    "    def update(self, x):\n",
    "        \n",
    "        return"
   ]
  },
  {
   "cell_type": "code",
   "execution_count": 76,
   "id": "1bff32c6",
   "metadata": {},
   "outputs": [
    {
     "name": "stdout",
     "output_type": "stream",
     "text": [
      "[0.08735761] [0.35661614]\n"
     ]
    }
   ],
   "source": [
    "#Forward Pass\n",
    "L_Cell = LSTM(1,1)\n",
    "H,C = L_Cell.forward(x[0],[0],[0])\n",
    "print(H,C)"
   ]
  },
  {
   "cell_type": "code",
   "execution_count": 77,
   "id": "180104ad",
   "metadata": {},
   "outputs": [
    {
     "name": "stdout",
     "output_type": "stream",
     "text": [
      "0.5059738676095349\n"
     ]
    }
   ],
   "source": [
    "Loss = MSE(y_true,H)\n",
    "print(Loss)"
   ]
  },
  {
   "cell_type": "code",
   "execution_count": 78,
   "id": "cacb66a9",
   "metadata": {},
   "outputs": [
    {
     "name": "stdout",
     "output_type": "stream",
     "text": [
      "[[0.01636189]] [[0.01818714]] [0.01468588]\n"
     ]
    }
   ],
   "source": [
    "dX, dH, dC = L_Cell.backward(x[0],H,C)\n",
    "print(dX,dH,dC)"
   ]
  },
  {
   "cell_type": "code",
   "execution_count": 79,
   "id": "6caeba68",
   "metadata": {},
   "outputs": [],
   "source": [
    "class RNN:\n",
    "    \n",
    "    def __init__(self, input_size, h_size, out_size):\n",
    "        self.input_size = input_size\n",
    "        self.h_size = h_size\n",
    "        self.out_size = out_size\n",
    "        \n",
    "        self.LSTM_Cells = []\n",
    "        self.H = [np.zeros(h_size)]\n",
    "        self.C = [np.zeros(h_size)]\n",
    "        \n",
    "        self.Wy = np.random.rand(out_size, h_size)\n",
    "        self.by = np.zeros(out_size)\n",
    "        \n",
    "        self.dWy = np.zeros((out_size,h_size))\n",
    "        self.dby = np.zeros(out_size)\n",
    "        \n",
    "        self.Losses = []\n",
    "        \n",
    "    def forward(self, x):\n",
    "        for t in range(x.shape[0]):\n",
    "            self.LSTM_Cells.append(LSTM(self.input_size,self.h_size))\n",
    "            h,c = self.LSTM_Cells[t].forward(x[t],self.H[t],self.C[t])\n",
    "            self.H.append(h)\n",
    "            self.C.append(c)\n",
    "        y = self.Wy * h + self.by\n",
    "        return y\n",
    "    \n",
    "    def backward(self, x, dy):\n",
    "        self.dWy = dy * self.H[-1].T\n",
    "        self.dby = dy\n",
    "        \n",
    "        dh = self.Wy.T * dy\n",
    "        dc = np.zeros_like(self.C[-1])\n",
    "        for t in reversed(range(x.shape[0])):\n",
    "            h_prev = self.H[t-1] if t > 0 else np.zeros_like(self.H[0])\n",
    "            c_prev = self.C[t-1] if t > 0 else np.zeros_like(self.C[0])\n",
    "            \n",
    "            dx, dh, dc = self.LSTM_Cells[t].backward(x[t], h_prev, c_prev)\n",
    "            \n",
    "        return\n",
    "    \n",
    "    def train(self, x, yt, lr = 0.001, epochs = 100):\n",
    "        for epoch in range(epochs):\n",
    "            epoch_loss = 0\n",
    "            for xt,target in zip(x,yt):\n",
    "                out = self.forward(xt)\n",
    "                loss = MSE(out,target)\n",
    "                epoch_loss += loss\n",
    "                \n",
    "                dy = out - target\n",
    "                self.backward(x,dy)\n",
    "                \n",
    "                self.Wy -= lr * self.dWy\n",
    "                self.by -= lr * self.dby\n",
    "                \n",
    "                ###UPDATE ALL WEIGHTS FOR LSTM CELLS\n",
    "                \n",
    "            self.Losses.append(epoch_loss)\n",
    "            print(f'Epoch {epoch + 1}/{epochs}, Loss: {epoch_loss / len(inputs)}')"
   ]
  },
  {
   "cell_type": "code",
   "execution_count": 80,
   "id": "95699641",
   "metadata": {},
   "outputs": [
    {
     "data": {
      "text/plain": [
       "array([[0.84847384]])"
      ]
     },
     "execution_count": 80,
     "metadata": {},
     "output_type": "execute_result"
    }
   ],
   "source": [
    "R = RNN(1,1,1)\n",
    "R.forward(x)"
   ]
  },
  {
   "cell_type": "code",
   "execution_count": 81,
   "id": "69cf812e",
   "metadata": {},
   "outputs": [
    {
     "data": {
      "text/plain": [
       "(array([0.96296761]), 1)"
      ]
     },
     "execution_count": 81,
     "metadata": {},
     "output_type": "execute_result"
    }
   ],
   "source": [
    "R.backward(x,1)\n",
    "R.dWy, R.dby"
   ]
  },
  {
   "cell_type": "code",
   "execution_count": 82,
   "id": "bc5f5064",
   "metadata": {},
   "outputs": [
    {
     "ename": "IndexError",
     "evalue": "tuple index out of range",
     "output_type": "error",
     "traceback": [
      "\u001b[1;31m---------------------------------------------------------------------------\u001b[0m",
      "\u001b[1;31mIndexError\u001b[0m                                Traceback (most recent call last)",
      "\u001b[1;32m<ipython-input-82-58d8946527ef>\u001b[0m in \u001b[0;36m<module>\u001b[1;34m\u001b[0m\n\u001b[1;32m----> 1\u001b[1;33m \u001b[0mR\u001b[0m\u001b[1;33m.\u001b[0m\u001b[0mtrain\u001b[0m\u001b[1;33m(\u001b[0m\u001b[0mx\u001b[0m\u001b[1;33m,\u001b[0m\u001b[0my_true\u001b[0m\u001b[1;33m)\u001b[0m\u001b[1;33m\u001b[0m\u001b[1;33m\u001b[0m\u001b[0m\n\u001b[0m",
      "\u001b[1;32m<ipython-input-79-f3c8bfd93155>\u001b[0m in \u001b[0;36mtrain\u001b[1;34m(self, x, yt, lr, epochs)\u001b[0m\n\u001b[0;32m     45\u001b[0m             \u001b[0mepoch_loss\u001b[0m \u001b[1;33m=\u001b[0m \u001b[1;36m0\u001b[0m\u001b[1;33m\u001b[0m\u001b[1;33m\u001b[0m\u001b[0m\n\u001b[0;32m     46\u001b[0m             \u001b[1;32mfor\u001b[0m \u001b[0mxt\u001b[0m\u001b[1;33m,\u001b[0m\u001b[0mtarget\u001b[0m \u001b[1;32min\u001b[0m \u001b[0mzip\u001b[0m\u001b[1;33m(\u001b[0m\u001b[0mx\u001b[0m\u001b[1;33m,\u001b[0m\u001b[0myt\u001b[0m\u001b[1;33m)\u001b[0m\u001b[1;33m:\u001b[0m\u001b[1;33m\u001b[0m\u001b[1;33m\u001b[0m\u001b[0m\n\u001b[1;32m---> 47\u001b[1;33m                 \u001b[0mout\u001b[0m \u001b[1;33m=\u001b[0m \u001b[0mself\u001b[0m\u001b[1;33m.\u001b[0m\u001b[0mforward\u001b[0m\u001b[1;33m(\u001b[0m\u001b[0mxt\u001b[0m\u001b[1;33m)\u001b[0m\u001b[1;33m\u001b[0m\u001b[1;33m\u001b[0m\u001b[0m\n\u001b[0m\u001b[0;32m     48\u001b[0m                 \u001b[0mloss\u001b[0m \u001b[1;33m=\u001b[0m \u001b[0mMSE\u001b[0m\u001b[1;33m(\u001b[0m\u001b[0mout\u001b[0m\u001b[1;33m,\u001b[0m\u001b[0mtarget\u001b[0m\u001b[1;33m)\u001b[0m\u001b[1;33m\u001b[0m\u001b[1;33m\u001b[0m\u001b[0m\n\u001b[0;32m     49\u001b[0m                 \u001b[0mepoch_loss\u001b[0m \u001b[1;33m+=\u001b[0m \u001b[0mloss\u001b[0m\u001b[1;33m\u001b[0m\u001b[1;33m\u001b[0m\u001b[0m\n",
      "\u001b[1;32m<ipython-input-79-f3c8bfd93155>\u001b[0m in \u001b[0;36mforward\u001b[1;34m(self, x)\u001b[0m\n\u001b[0;32m     19\u001b[0m \u001b[1;33m\u001b[0m\u001b[0m\n\u001b[0;32m     20\u001b[0m     \u001b[1;32mdef\u001b[0m \u001b[0mforward\u001b[0m\u001b[1;33m(\u001b[0m\u001b[0mself\u001b[0m\u001b[1;33m,\u001b[0m \u001b[0mx\u001b[0m\u001b[1;33m)\u001b[0m\u001b[1;33m:\u001b[0m\u001b[1;33m\u001b[0m\u001b[1;33m\u001b[0m\u001b[0m\n\u001b[1;32m---> 21\u001b[1;33m         \u001b[1;32mfor\u001b[0m \u001b[0mt\u001b[0m \u001b[1;32min\u001b[0m \u001b[0mrange\u001b[0m\u001b[1;33m(\u001b[0m\u001b[0mx\u001b[0m\u001b[1;33m.\u001b[0m\u001b[0mshape\u001b[0m\u001b[1;33m[\u001b[0m\u001b[1;36m0\u001b[0m\u001b[1;33m]\u001b[0m\u001b[1;33m)\u001b[0m\u001b[1;33m:\u001b[0m\u001b[1;33m\u001b[0m\u001b[1;33m\u001b[0m\u001b[0m\n\u001b[0m\u001b[0;32m     22\u001b[0m             \u001b[0mself\u001b[0m\u001b[1;33m.\u001b[0m\u001b[0mLSTM_Cells\u001b[0m\u001b[1;33m.\u001b[0m\u001b[0mappend\u001b[0m\u001b[1;33m(\u001b[0m\u001b[0mLSTM\u001b[0m\u001b[1;33m(\u001b[0m\u001b[0mself\u001b[0m\u001b[1;33m.\u001b[0m\u001b[0minput_size\u001b[0m\u001b[1;33m,\u001b[0m\u001b[0mself\u001b[0m\u001b[1;33m.\u001b[0m\u001b[0mh_size\u001b[0m\u001b[1;33m)\u001b[0m\u001b[1;33m)\u001b[0m\u001b[1;33m\u001b[0m\u001b[1;33m\u001b[0m\u001b[0m\n\u001b[0;32m     23\u001b[0m             \u001b[0mh\u001b[0m\u001b[1;33m,\u001b[0m\u001b[0mc\u001b[0m \u001b[1;33m=\u001b[0m \u001b[0mself\u001b[0m\u001b[1;33m.\u001b[0m\u001b[0mLSTM_Cells\u001b[0m\u001b[1;33m[\u001b[0m\u001b[0mt\u001b[0m\u001b[1;33m]\u001b[0m\u001b[1;33m.\u001b[0m\u001b[0mforward\u001b[0m\u001b[1;33m(\u001b[0m\u001b[0mx\u001b[0m\u001b[1;33m[\u001b[0m\u001b[0mt\u001b[0m\u001b[1;33m]\u001b[0m\u001b[1;33m,\u001b[0m\u001b[0mself\u001b[0m\u001b[1;33m.\u001b[0m\u001b[0mH\u001b[0m\u001b[1;33m[\u001b[0m\u001b[0mt\u001b[0m\u001b[1;33m]\u001b[0m\u001b[1;33m,\u001b[0m\u001b[0mself\u001b[0m\u001b[1;33m.\u001b[0m\u001b[0mC\u001b[0m\u001b[1;33m[\u001b[0m\u001b[0mt\u001b[0m\u001b[1;33m]\u001b[0m\u001b[1;33m)\u001b[0m\u001b[1;33m\u001b[0m\u001b[1;33m\u001b[0m\u001b[0m\n",
      "\u001b[1;31mIndexError\u001b[0m: tuple index out of range"
     ]
    }
   ],
   "source": [
    "R.train(x,y_true)"
   ]
  },
  {
   "cell_type": "code",
   "execution_count": null,
   "id": "9d012502",
   "metadata": {},
   "outputs": [],
   "source": []
  }
 ],
 "metadata": {
  "kernelspec": {
   "display_name": "Python 3",
   "language": "python",
   "name": "python3"
  },
  "language_info": {
   "codemirror_mode": {
    "name": "ipython",
    "version": 3
   },
   "file_extension": ".py",
   "mimetype": "text/x-python",
   "name": "python",
   "nbconvert_exporter": "python",
   "pygments_lexer": "ipython3",
   "version": "3.7.6"
  }
 },
 "nbformat": 4,
 "nbformat_minor": 5
}
