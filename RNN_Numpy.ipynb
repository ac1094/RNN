{
 "cells": [
  {
   "cell_type": "markdown",
   "id": "af62fba6",
   "metadata": {},
   "source": [
    "# Recurrent Neural Network (RNN)"
   ]
  },
  {
   "cell_type": "code",
   "execution_count": 177,
   "id": "3d94e905",
   "metadata": {},
   "outputs": [],
   "source": [
    "import numpy as np\n",
    "import matplotlib.pyplot as plt\n",
    "\n",
    "#np.random.seed(0)"
   ]
  },
  {
   "cell_type": "code",
   "execution_count": 178,
   "id": "89ab2f4a",
   "metadata": {},
   "outputs": [
    {
     "data": {
      "image/png": "[encoded data removed]",
      "text/plain": [
       "<Figure size 432x288 with 1 Axes>"
      ]
     },
     "metadata": {
      "needs_background": "light"
     },
     "output_type": "display_data"
    }
   ],
   "source": [
    "#Data\n",
    "window = 3\n",
    "n_data = 50 #Amount of Data\n",
    "domain_x = 5 #Domain of Data\n",
    "t = np.asarray(np.linspace(0, domain_x, n_data)) #Create X data\n",
    "xt = np.asarray([np.sin(3*t[i]) + 0.0 * np.random.rand()  for i in range(n_data)]) #Create target data\n",
    "x_w = np.asarray([xt[i:i+window] for i in range(len(xt)-window)])\n",
    "y = np.asarray(xt[window:])\n",
    "plt.plot(t,xt,label='True data', marker='o')\n",
    "plt.plot(t[window:],y,marker='*')\n",
    "plt.grid()\n",
    "plt.show()"
   ]
  },
  {
   "cell_type": "code",
   "execution_count": 179,
   "id": "8a0dd9ae",
   "metadata": {},
   "outputs": [],
   "source": [
    "def MSE(y_true,y_pred):\n",
    "    return np.mean((y_true - y_pred) ** 2)"
   ]
  },
  {
   "cell_type": "code",
   "execution_count": 180,
   "id": "d89beb9c",
   "metadata": {},
   "outputs": [],
   "source": [
    "def sigmoid(x):\n",
    "    return 1 / (1 + np.exp(-x))"
   ]
  },
  {
   "cell_type": "code",
   "execution_count": 181,
   "id": "0215061a",
   "metadata": {},
   "outputs": [],
   "source": [
    "def d_sig(x):\n",
    "    return sigmoid(x)*(1-sigmoid(x))"
   ]
  },
  {
   "cell_type": "code",
   "execution_count": 182,
   "id": "6d2a6e68",
   "metadata": {},
   "outputs": [],
   "source": [
    "#LSTM cell\n",
    "class LSTM:\n",
    "    \n",
    "    def __init__(self, input_size, h_size):\n",
    "        self.input_size = input_size\n",
    "        self.h_size = h_size\n",
    "        self.Wf = np.random.uniform(0, 1, (h_size, input_size + h_size)) #Forget weights\n",
    "        self.Wi = np.random.uniform(0, 1, (h_size, input_size + h_size)) #Input weights\n",
    "        self.Wo = np.random.uniform(0, 1, (h_size, input_size + h_size)) #Output weights\n",
    "        self.Wc = np.random.uniform(0, 1, (h_size, input_size + h_size)) #Cell Input weights\n",
    "        self.bf = np.random.randn(h_size) #Forget bias\n",
    "        self.bi = np.random.randn(h_size) #Input bias\n",
    "        self.bo = np.random.randn(h_size) #Output bias\n",
    "        self.bc = np.random.randn(h_size) #Cell Input bias\n",
    "        self.c_state = np.random.uniform(-1, 1, (h_size,1)) #Cell state\n",
    "        self.h_state = np.random.uniform(-1, 1, (h_size,1)) #Hidden state\n",
    "        \n",
    "        self.concat = np.zeros((input_size + h_size)) #Concatenated Values\n",
    "        \n",
    "        self.f = 0 #forget gate\n",
    "        self.i = 0 #input gate\n",
    "        self.o = 0 #output gate\n",
    "        self.c_hat = 0 #candidate cell state\n",
    "        \n",
    "        self.Wf_g = np.zeros((h_size, input_size + h_size)) #Forget gradient\n",
    "        self.Wi_g = np.zeros((h_size, input_size + h_size)) #Input Gradient\n",
    "        self.Wo_g = np.zeros((h_size, input_size + h_size)) #Output Gradient\n",
    "        self.Wc_g = np.zeros((h_size, input_size + h_size)) #Cell Gradient\n",
    "        self.bf_g = np.zeros(h_size) #Forget bias gradient\n",
    "        self.bi_g = np.zeros(h_size) #Input bias gradient\n",
    "        self.bo_g = np.zeros(h_size) #Output bias gradient\n",
    "        self.bc_g = np.zeros(h_size) #Cell bias Gradient\n",
    "        self.c_state_g = np.zeros(h_size) #Cell State Gradient\n",
    "        self.h_state_g = np.zeros(h_size) #Hidden State Gradient\n",
    "        \n",
    "    def forward(self, x, h_prev, c_prev):\n",
    "        self.concat = np.hstack((h_prev, x)) #Concatenated hidden state and input\n",
    "        self.f = sigmoid(np.dot(self.Wf, self.concat) + self.bf) #Forget cell\n",
    "        self.i = sigmoid(np.dot(self.Wi, self.concat) + self.bi) #Input cell\n",
    "        self.o = sigmoid(np.dot(self.Wo, self.concat) + self.bo) #Output cell\n",
    "        self.c_hat = np.tanh(np.dot(self.Wc, self.concat) + self.bc) #Cell state\n",
    "\n",
    "        self.c_state = self.f * c_prev + self.i * self.c_hat #New Cell State\n",
    "        self.h_state = self.o * np.tanh(self.c_state) #New Hidden State\n",
    "\n",
    "        return self.h_state, self.c_state\n",
    "    \n",
    "    def backward(self, x, d_h_state, d_c_state):\n",
    "        self.h_state_g = d_h_state \n",
    "        d_o = d_h_state * np.tanh(self.c_state) * d_sig(np.dot(self.Wo, self.concat) + self.bo)\n",
    "        d_c = (d_h_state * self.o * (1 - np.tanh(self.c_state)**2)) + d_c_state\n",
    "        d_i = d_c * self.c_hat * d_sig(np.dot(self.Wi, self.concat) + self.bi)\n",
    "        d_f = d_c * self.c_state * d_sig(np.dot(self.Wf, self.concat) + self.bf)\n",
    "        d_c_hat = d_c * self.i * (1 - self.c_hat**2)\n",
    "        \n",
    "        self.Wf_g += np.outer(d_f, self.concat)\n",
    "        self.Wi_g += np.outer(d_i, self.concat)\n",
    "        self.Wc_g += np.outer(d_c_hat, self.concat)\n",
    "        self.Wo_g += np.outer(d_o, self.concat)\n",
    "        \n",
    "        self.bf_g += d_f\n",
    "        self.bi_g += d_i\n",
    "        self.bc_g += d_c_hat\n",
    "        self.bo_g += d_o\n",
    "        \n",
    "        dconcat = np.dot(self.Wf.T, d_f) + np.dot(self.Wi.T, d_i) + np.dot(self.Wc.T, d_c_hat) + np.dot(self.Wo.T, d_o)\n",
    "        \n",
    "        dx = dconcat[:self.input_size] \n",
    "        dh_prev = dconcat[self.input_size:]\n",
    "\n",
    "        return dx, dh_prev, d_c * self.f\n",
    "    \n",
    "    def update(self, lr=0.0001):\n",
    "        self.Wf -= lr * self.Wf_g\n",
    "        self.Wi -= lr * self.Wi_g\n",
    "        self.Wc -= lr * self.Wc_g\n",
    "        self.Wo -= lr * self.Wo_g\n",
    "        \n",
    "        self.bf -= lr * self.bf_g\n",
    "        self.bi -= lr * self.bi_g\n",
    "        self.bc -= lr * self.bc_g\n",
    "        self.bo -= lr * self.bo_g\n",
    "        \n",
    "        # Reset gradients after updating\n",
    "        self.Wf_g.fill(0)\n",
    "        self.Wi_g.fill(0)\n",
    "        self.Wc_g.fill(0)\n",
    "        self.Wo_g.fill(0)\n",
    "        \n",
    "        self.bf_g.fill(0)\n",
    "        self.bi_g.fill(0)\n",
    "        self.bc_g.fill(0)\n",
    "        self.bo_g.fill(0)\n"
   ]
  },
  {
   "cell_type": "code",
   "execution_count": 183,
   "id": "d9d76cc2",
   "metadata": {},
   "outputs": [
    {
     "name": "stdout",
     "output_type": "stream",
     "text": [
      "[ 0.34053806 -0.18362624  0.04489349  0.02505058 -0.27477424] [ 0.56581714 -0.22591533  0.28761076  0.06546623 -0.54968508]\n"
     ]
    }
   ],
   "source": [
    "#Forward Pass\n",
    "L_Cell = LSTM(3,5)\n",
    "H,C = L_Cell.forward(x_w[0],[0,0,0,0,0],[0])\n",
    "print(H,C)"
   ]
  },
  {
   "cell_type": "code",
   "execution_count": 184,
   "id": "bfab2856",
   "metadata": {},
   "outputs": [
    {
     "name": "stdout",
     "output_type": "stream",
     "text": [
      "[0.20180187 0.18585835 0.00185803] [0.08745978 0.12678317 0.1172247  0.30437236 0.06186524] [ 0.37843905 -0.1140417   0.06982204  0.01645496 -0.51425538]\n"
     ]
    }
   ],
   "source": [
    "dX, dH, dC = L_Cell.backward(x_w[0],H,C)\n",
    "print(dX,dH,dC)"
   ]
  },
  {
   "cell_type": "code",
   "execution_count": 185,
   "id": "8ed764ab",
   "metadata": {},
   "outputs": [
    {
     "data": {
      "text/plain": [
       "[<matplotlib.lines.Line2D at 0x17d20ec5e88>,\n",
       " <matplotlib.lines.Line2D at 0x17d20e62cc8>,\n",
       " <matplotlib.lines.Line2D at 0x17d20f5ed48>,\n",
       " <matplotlib.lines.Line2D at 0x17d20f5e8c8>,\n",
       " <matplotlib.lines.Line2D at 0x17d20c62fc8>]"
      ]
     },
     "execution_count": 185,
     "metadata": {},
     "output_type": "execute_result"
    },
    {
     "data": {
      "image/png": "[encoded data removed]",
      "text/plain": [
       "<Figure size 432x288 with 1 Axes>"
      ]
     },
     "metadata": {
      "needs_background": "light"
     },
     "output_type": "display_data"
    }
   ],
   "source": [
    "Hs = []\n",
    "H = [0,0,0,0,0]\n",
    "C = [0,0,0,0,0]\n",
    "for i in range(1000):\n",
    "    H,C = L_Cell.forward(x_w[0],H,C)\n",
    "    dX, dH, dC = L_Cell.backward(x_w[0],H,C)\n",
    "    L_Cell.update(0.1)\n",
    "    Hs.append(H)\n",
    "Hs = np.asarray(Hs)\n",
    "plt.plot(Hs)"
   ]
  },
  {
   "cell_type": "code",
   "execution_count": 186,
   "id": "7b68bc48",
   "metadata": {},
   "outputs": [],
   "source": [
    "class RNN:\n",
    "    def __init__(self, input_size, h_size, out_size, lr=0.001, x_dim=1):\n",
    "        self.input_size = input_size\n",
    "        self.h_size = h_size\n",
    "        self.out_size = out_size\n",
    "\n",
    "        self.LSTM_Cells = []\n",
    "        for j in range(self.input_size):\n",
    "            self.LSTM_Cells.append(LSTM(x_dim, self.h_size))\n",
    "\n",
    "        self.H = [np.zeros(h_size)]\n",
    "        self.C = [np.zeros(h_size)]\n",
    "\n",
    "        self.Wy = np.random.rand(out_size, h_size)\n",
    "        self.by = np.zeros(out_size)\n",
    "\n",
    "        self.dWy = np.zeros((out_size, h_size))\n",
    "        self.dby = np.zeros(out_size)\n",
    "\n",
    "        self.lr = lr\n",
    "\n",
    "        self.Losses = []\n",
    "\n",
    "    def forward(self, x):\n",
    "        self.H = [np.zeros(self.h_size)]\n",
    "        self.C = [np.zeros(self.h_size)]\n",
    "        for t in range(self.input_size):\n",
    "            h, c = self.LSTM_Cells[t].forward(x[t], self.H[-1], self.C[-1])\n",
    "            self.H.append(h)\n",
    "            self.C.append(c)\n",
    "        y = self.Wy.dot(h) + self.by\n",
    "        return y\n",
    "\n",
    "    def backward(self, x, dy):\n",
    "        self.dWy = dy * self.H[-1].reshape(-1, 1).T\n",
    "        self.dby = dy\n",
    "\n",
    "        dh = self.Wy.T.dot(dy)\n",
    "        dc = np.zeros_like(self.C[-1])\n",
    "        for t in reversed(range(self.input_size)):\n",
    "            dx, dh, dc = self.LSTM_Cells[t].backward(x[t], dh, dc)\n",
    "\n",
    "    def train(self, x, yt, epochs=1000):\n",
    "        for epoch in range(epochs):\n",
    "            epoch_loss = 0\n",
    "            for i in range(len(x)):\n",
    "                out = self.forward(x[i])\n",
    "                loss = MSE(out, yt[i])\n",
    "                epoch_loss += loss\n",
    "\n",
    "                dy = out - yt[i]\n",
    "                self.backward(x[i], dy)\n",
    "\n",
    "                self.Wy -= self.lr * self.dWy\n",
    "                self.by -= self.lr * self.dby\n",
    "\n",
    "                for l in self.LSTM_Cells:\n",
    "                    l.update(self.lr)\n",
    "\n",
    "            self.Losses.append(epoch_loss / len(x))\n",
    "            if epoch%100==0 or epoch==epochs-1:\n",
    "                print(f'Epoch {epoch + 1}/{epochs}, Loss: {epoch_loss / len(x)}',end='\\r')"
   ]
  },
  {
   "cell_type": "code",
   "execution_count": 187,
   "id": "53993abd",
   "metadata": {},
   "outputs": [
    {
     "data": {
      "text/plain": [
       "array([0.08516193])"
      ]
     },
     "execution_count": 187,
     "metadata": {},
     "output_type": "execute_result"
    }
   ],
   "source": [
    "R = RNN(1,5,1,x_dim=3)\n",
    "R.forward(x_w)"
   ]
  },
  {
   "cell_type": "code",
   "execution_count": 198,
   "id": "c2113215",
   "metadata": {},
   "outputs": [
    {
     "name": "stdout",
     "output_type": "stream",
     "text": [
      "Epoch 5000/5000, Loss: 0.0014470649978268286\r"
     ]
    }
   ],
   "source": [
    "R = RNN(window,5,1)\n",
    "R.train(x_w,y,5000)"
   ]
  },
  {
   "cell_type": "code",
   "execution_count": 199,
   "id": "167a37ca",
   "metadata": {},
   "outputs": [
    {
     "data": {
      "text/plain": [
       "[<matplotlib.lines.Line2D at 0x17d1e7f0908>]"
      ]
     },
     "execution_count": 199,
     "metadata": {},
     "output_type": "execute_result"
    },
    {
     "data": {
      "image/png": "[encoded data removed]",
      "text/plain": [
       "<Figure size 432x288 with 1 Axes>"
      ]
     },
     "metadata": {
      "needs_background": "light"
     },
     "output_type": "display_data"
    }
   ],
   "source": [
    "plt.plot(R.Losses)"
   ]
  },
  {
   "cell_type": "code",
   "execution_count": 210,
   "id": "76bf67ca",
   "metadata": {},
   "outputs": [],
   "source": [
    "y_pred = []\n",
    "y_pred.append(R.forward(xt[-3:]))\n",
    "y_pred.append(R.forward(np.concatenate((xt[-2:],y_pred[0]))))\n",
    "y_pred.append(R.forward(np.concatenate((xt[-1:],y_pred[0],y_pred[1]))))\n",
    "for i in range(10):\n",
    "    y_pred.append(R.forward(np.concatenate((y_pred[-3],y_pred[-2],y_pred[-1]))))"
   ]
  },
  {
   "cell_type": "code",
   "execution_count": 211,
   "id": "d48c1844",
   "metadata": {},
   "outputs": [],
   "source": [
    "Y = np.concatenate((xt,np.asarray(y_pred).reshape(len(y_pred))))\n",
    "T = list(range(Y.shape[0]))"
   ]
  },
  {
   "cell_type": "code",
   "execution_count": 212,
   "id": "012dfe96",
   "metadata": {},
   "outputs": [
    {
     "data": {
      "image/png": "[encoded data removed]",
      "text/plain": [
       "<Figure size 432x288 with 1 Axes>"
      ]
     },
     "metadata": {
      "needs_background": "light"
     },
     "output_type": "display_data"
    }
   ],
   "source": [
    "plt.plot(T[:n_data],Y[:n_data],marker='o')\n",
    "plt.plot(T[n_data:],Y[n_data:],marker='*')\n",
    "plt.grid()\n",
    "plt.show()"
   ]
  },
  {
   "cell_type": "code",
   "execution_count": null,
   "id": "bc95ebad",
   "metadata": {},
   "outputs": [],
   "source": []
  }
 ],
 "metadata": {
  "kernelspec": {
   "display_name": "Python 3",
   "language": "python",
   "name": "python3"
  },
  "language_info": {
   "codemirror_mode": {
    "name": "ipython",
    "version": 3
   },
   "file_extension": ".py",
   "mimetype": "text/x-python",
   "name": "python",
   "nbconvert_exporter": "python",
   "pygments_lexer": "ipython3",
   "version": "3.7.6"
  }
 },
 "nbformat": 4,
 "nbformat_minor": 5
}
